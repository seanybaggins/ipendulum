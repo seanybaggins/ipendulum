{
 "metadata": {
  "language_info": {
   "codemirror_mode": {
    "name": "ipython",
    "version": 3
   },
   "file_extension": ".py",
   "mimetype": "text/x-python",
   "name": "python",
   "nbconvert_exporter": "python",
   "pygments_lexer": "ipython3",
   "version": "3.8.6-final"
  },
  "orig_nbformat": 2,
  "kernelspec": {
   "name": "python3",
   "display_name": "Python 3.8.6 64-bit ('base': conda)",
   "metadata": {
    "interpreter": {
     "hash": "98b0a9b7b4eaaa670588a142fd0a9b87eaafe866f1db4228be72b4211d12040f"
    }
   }
  }
 },
 "nbformat": 4,
 "nbformat_minor": 2,
 "cells": [
  {
   "source": [
    "from sympy import *\n",
    "from sympy.assumptions.assume import global_assumptions"
   ],
   "cell_type": "code",
   "metadata": {},
   "execution_count": 1,
   "outputs": []
  },
  {
   "cell_type": "code",
   "execution_count": 2,
   "metadata": {},
   "outputs": [],
   "source": [
    "l, t, m1, m2, g = symbols(\"l t m1 m2 g\", real=True, positive=True)\n",
    "p1x = Function(\"p1x\", real=True)(t)\n",
    "theta = Function(\"theta\", real=True)(t)\n",
    "global_assumptions.add(Q.real(theta.diff(t)))\n",
    "global_assumptions.add(Q.real(p1x.diff(t)))\n",
    "thetaDot = theta.diff(t, real=True)"
   ]
  },
  {
   "cell_type": "code",
   "execution_count": 3,
   "metadata": {},
   "outputs": [
    {
     "output_type": "display_data",
     "data": {
      "text/plain": "Matrix([\n[-l*sin(theta(t)) + p1x(t)],\n[          l*cos(theta(t))]])",
      "text/latex": "$\\displaystyle \\left[\\begin{matrix}- l \\sin{\\left(\\theta{\\left(t \\right)} \\right)} + \\operatorname{p1x}{\\left(t \\right)}\\\\l \\cos{\\left(\\theta{\\left(t \\right)} \\right)}\\end{matrix}\\right]$"
     },
     "metadata": {}
    }
   ],
   "source": [
    "p2Vec = Matrix([[p1x - l * sin(theta)],\n",
    "                [l * cos(theta)]], real=True)\n",
    "display(p2Vec)"
   ]
  },
  {
   "cell_type": "code",
   "execution_count": 4,
   "metadata": {},
   "outputs": [
    {
     "output_type": "display_data",
     "data": {
      "text/plain": "Matrix([\n[p1x(t)],\n[     0]])",
      "text/latex": "$\\displaystyle \\left[\\begin{matrix}\\operatorname{p1x}{\\left(t \\right)}\\\\0\\end{matrix}\\right]$"
     },
     "metadata": {}
    }
   ],
   "source": [
    "p1Vec = Matrix([p1x, 0])\n",
    "display(p1Vec)"
   ]
  },
  {
   "cell_type": "code",
   "execution_count": 5,
   "metadata": {},
   "outputs": [
    {
     "output_type": "display_data",
     "data": {
      "text/plain": "Abs(Derivative(p1x(t), t))",
      "text/latex": "$\\displaystyle \\left|{\\frac{d}{d t} \\operatorname{p1x}{\\left(t \\right)}}\\right|$"
     },
     "metadata": {}
    }
   ],
   "source": [
    "p1VecDot = p1Vec.diff(t).norm()\n",
    "display(p1VecDot)\n"
   ]
  },
  {
   "cell_type": "code",
   "execution_count": 6,
   "metadata": {},
   "outputs": [
    {
     "output_type": "display_data",
     "data": {
      "text/plain": "l**2*Derivative(theta(t), t)**2 - 2*l*cos(theta(t))*Derivative(p1x(t), t)*Derivative(theta(t), t) + Derivative(p1x(t), t)**2",
      "text/latex": "$\\displaystyle l^{2} \\left(\\frac{d}{d t} \\theta{\\left(t \\right)}\\right)^{2} - 2 l \\cos{\\left(\\theta{\\left(t \\right)} \\right)} \\frac{d}{d t} \\operatorname{p1x}{\\left(t \\right)} \\frac{d}{d t} \\theta{\\left(t \\right)} + \\left(\\frac{d}{d t} \\operatorname{p1x}{\\left(t \\right)}\\right)^{2}$"
     },
     "metadata": {}
    }
   ],
   "source": [
    "p2VecDot = simplify(refine(p2Vec.diff(t).norm()))\n",
    "display(p2VecDot**2)"
   ]
  },
  {
   "cell_type": "code",
   "execution_count": 7,
   "metadata": {},
   "outputs": [
    {
     "output_type": "display_data",
     "data": {
      "text/plain": "-g*l*m2*cos(theta(t)) + 0.5*m1*Derivative(p1x(t), t)**2 + 0.5*m2*(l**2*Derivative(theta(t), t)**2 - 2*l*cos(theta(t))*Derivative(p1x(t), t)*Derivative(theta(t), t) + Derivative(p1x(t), t)**2)",
      "text/latex": "$\\displaystyle - g l m_{2} \\cos{\\left(\\theta{\\left(t \\right)} \\right)} + 0.5 m_{1} \\left(\\frac{d}{d t} \\operatorname{p1x}{\\left(t \\right)}\\right)^{2} + 0.5 m_{2} \\left(l^{2} \\left(\\frac{d}{d t} \\theta{\\left(t \\right)}\\right)^{2} - 2 l \\cos{\\left(\\theta{\\left(t \\right)} \\right)} \\frac{d}{d t} \\operatorname{p1x}{\\left(t \\right)} \\frac{d}{d t} \\theta{\\left(t \\right)} + \\left(\\frac{d}{d t} \\operatorname{p1x}{\\left(t \\right)}\\right)^{2}\\right)$"
     },
     "metadata": {}
    }
   ],
   "source": [
    "i = m2*l**2 # Using lower case since upper case I is reserved as sqrt(-1) in sympy\n",
    "ke = 1/2*m1*p1VecDot**2  + 1/2*m2*p2VecDot**2 #+ 1/2*i*thetaDot**2\n",
    "pe = m2*g*l*cos(theta)\n",
    "L = simplify(refine(ke - pe))\n",
    "display(L)"
   ]
  },
  {
   "cell_type": "code",
   "execution_count": 8,
   "metadata": {},
   "outputs": [],
   "source": [
    "#  Check if we can account for f(t)\n",
    "eom1, eom2 = euler_equations(L, [p1x, theta], t)\n",
    "f = Function(\"f\")\n",
    "eom1 = eom1.subs(0, -f(t))"
   ]
  },
  {
   "cell_type": "code",
   "execution_count": 9,
   "metadata": {},
   "outputs": [
    {
     "output_type": "display_data",
     "data": {
      "text/plain": "Eq(f(t), 1.0*m1*Derivative(p1x(t), (t, 2)) + m2*(l*sin(theta(t))*Derivative(theta(t), t)**2 - l*cos(theta(t))*Derivative(theta(t), (t, 2)) + Derivative(p1x(t), (t, 2))))",
      "text/latex": "$\\displaystyle f{\\left(t \\right)} = 1.0 m_{1} \\frac{d^{2}}{d t^{2}} \\operatorname{p1x}{\\left(t \\right)} + m_{2} \\left(l \\sin{\\left(\\theta{\\left(t \\right)} \\right)} \\left(\\frac{d}{d t} \\theta{\\left(t \\right)}\\right)^{2} - l \\cos{\\left(\\theta{\\left(t \\right)} \\right)} \\frac{d^{2}}{d t^{2}} \\theta{\\left(t \\right)} + \\frac{d^{2}}{d t^{2}} \\operatorname{p1x}{\\left(t \\right)}\\right)$"
     },
     "metadata": {}
    }
   ],
   "source": [
    "display(simplify(eom1))"
   ]
  },
  {
   "cell_type": "code",
   "execution_count": 10,
   "metadata": {},
   "outputs": [
    {
     "output_type": "display_data",
     "data": {
      "text/plain": "Eq(l*m2*(g*sin(theta(t)) - l*Derivative(theta(t), (t, 2)) + cos(theta(t))*Derivative(p1x(t), (t, 2))), 0)",
      "text/latex": "$\\displaystyle l m_{2} \\left(g \\sin{\\left(\\theta{\\left(t \\right)} \\right)} - l \\frac{d^{2}}{d t^{2}} \\theta{\\left(t \\right)} + \\cos{\\left(\\theta{\\left(t \\right)} \\right)} \\frac{d^{2}}{d t^{2}} \\operatorname{p1x}{\\left(t \\right)}\\right) = 0$"
     },
     "metadata": {}
    }
   ],
   "source": [
    "display(simplify(eom2))"
   ]
  },
  {
   "cell_type": "code",
   "execution_count": 11,
   "metadata": {},
   "outputs": [],
   "source": [
    "# Now is a good time to apply our assumptions about the system\n",
    "eom1 = eom1.subs(sin(theta), theta)\n",
    "eom1 = eom1.subs(cos(theta), 1)\n",
    "eom1 = eom1.subs(thetaDot**2, 0)\n",
    "eom1 = simplify(eom1)\n",
    "\n",
    "eom2 = eom2.subs(sin(theta), theta)\n",
    "eom2 = eom2.subs(cos(theta), 1)\n",
    "eom2 = eom2.subs(thetaDot**2, 0)\n",
    "eom2 = simplify(eom2)"
   ]
  },
  {
   "cell_type": "code",
   "execution_count": 12,
   "metadata": {},
   "outputs": [
    {
     "output_type": "display_data",
     "data": {
      "text/plain": "Eq(f(t), 1.0*m1*Derivative(p1x(t), (t, 2)) - m2*(l*Derivative(theta(t), (t, 2)) - Derivative(p1x(t), (t, 2))))",
      "text/latex": "$\\displaystyle f{\\left(t \\right)} = 1.0 m_{1} \\frac{d^{2}}{d t^{2}} \\operatorname{p1x}{\\left(t \\right)} - m_{2} \\left(l \\frac{d^{2}}{d t^{2}} \\theta{\\left(t \\right)} - \\frac{d^{2}}{d t^{2}} \\operatorname{p1x}{\\left(t \\right)}\\right)$"
     },
     "metadata": {}
    },
    {
     "output_type": "display_data",
     "data": {
      "text/plain": "Eq(l*m2*(g*theta(t) - l*Derivative(theta(t), (t, 2)) + Derivative(p1x(t), (t, 2))), 0)",
      "text/latex": "$\\displaystyle l m_{2} \\left(g \\theta{\\left(t \\right)} - l \\frac{d^{2}}{d t^{2}} \\theta{\\left(t \\right)} + \\frac{d^{2}}{d t^{2}} \\operatorname{p1x}{\\left(t \\right)}\\right) = 0$"
     },
     "metadata": {}
    }
   ],
   "source": [
    "display(eom1)\n",
    "display(eom2)"
   ]
  },
  {
   "cell_type": "code",
   "execution_count": 13,
   "metadata": {},
   "outputs": [],
   "source": [
    "thetaDotDot = thetaDot.diff(t, real=True)\n",
    "p1xDotDot = p1x.diff(t, real=True).diff(t, real=True)\n",
    "solution = solve([eom1, eom2], [thetaDotDot, p1xDotDot])\n",
    "\n",
    "# Getting the solutions of thetaDotDot and p1XDotDot out \n",
    "# of a dictionary\n",
    "thetaDotDot = simplify(solution[thetaDotDot])\n",
    "p1xDotDot = simplify(solution[p1xDotDot])"
   ]
  },
  {
   "cell_type": "code",
   "execution_count": 14,
   "metadata": {},
   "outputs": [
    {
     "output_type": "display_data",
     "data": {
      "text/plain": "(g*m1*theta(t) + g*m2*theta(t) + f(t))/(l*m1)",
      "text/latex": "$\\displaystyle \\frac{g m_{1} \\theta{\\left(t \\right)} + g m_{2} \\theta{\\left(t \\right)} + f{\\left(t \\right)}}{l m_{1}}$"
     },
     "metadata": {}
    }
   ],
   "source": [
    "display(thetaDotDot)"
   ]
  },
  {
   "cell_type": "code",
   "execution_count": 15,
   "metadata": {},
   "outputs": [
    {
     "output_type": "display_data",
     "data": {
      "text/plain": "(g*m2*theta(t) + f(t))/m1",
      "text/latex": "$\\displaystyle \\frac{g m_{2} \\theta{\\left(t \\right)} + f{\\left(t \\right)}}{m_{1}}$"
     },
     "metadata": {}
    }
   ],
   "source": [
    "display(p1xDotDot)"
   ]
  },
  {
   "cell_type": "code",
   "execution_count": 16,
   "metadata": {},
   "outputs": [
    {
     "output_type": "display_data",
     "data": {
      "text/plain": "Matrix([\n[0, 1,                    0, 0],\n[0, 0,              g*m2/m1, 0],\n[0, 0,                    0, 1],\n[0, 0, (g*m1 + g*m2)/(l*m1), 0]])",
      "text/latex": "$\\displaystyle \\left[\\begin{matrix}0 & 1 & 0 & 0\\\\0 & 0 & \\frac{g m_{2}}{m_{1}} & 0\\\\0 & 0 & 0 & 1\\\\0 & 0 & \\frac{g m_{1} + g m_{2}}{l m_{1}} & 0\\end{matrix}\\right]$"
     },
     "metadata": {}
    },
    {
     "output_type": "display_data",
     "data": {
      "text/plain": "Matrix([\n[       0],\n[    1/m1],\n[       0],\n[1/(l*m1)]])",
      "text/latex": "$\\displaystyle \\left[\\begin{matrix}0\\\\\\frac{1}{m_{1}}\\\\0\\\\\\frac{1}{l m_{1}}\\end{matrix}\\right]$"
     },
     "metadata": {}
    }
   ],
   "source": [
    "p1xDot = p1x.diff(t)\n",
    "x = [p1x, p1xDot, theta, thetaDot]\n",
    "xDot = [p1xDot, p1xDotDot, thetaDot, thetaDotDot]\n",
    "\n",
    "# type conversions are needed for the linear_eq_to_matrix function call to work\n",
    "typeConversions = [\n",
    "    (p1xDot, Symbol(\"p1xDot\")),\n",
    "    (thetaDot, Symbol(\"thetaDot\")),\n",
    "    (p1x, Symbol(\"p1x\")),\n",
    "    (theta, Symbol(\"theta\")),\n",
    "    (f(t), Symbol(\"f(t)\"))\n",
    "]\n",
    "\n",
    "for i in range(len(xDot)):\n",
    "    xDot[i] = xDot[i].subs(typeConversions)\n",
    "    x[i] = x[i].subs(typeConversions)\n",
    "\n",
    "APlant, B = linear_eq_to_matrix(xDot, x)\n",
    "\n",
    "# Because linear_eq_to_matrix separates non-states and puts them on the other side of the equation\n",
    "B = -1*B\n",
    "\n",
    "# Getting f(t) out of the B matrix\n",
    "B = B.subs(Symbol(\"f(t)\"), 1)\n",
    "display(APlant)\n",
    "display(B) "
   ]
  },
  {
   "cell_type": "code",
   "execution_count": 17,
   "metadata": {},
   "outputs": [
    {
     "output_type": "display_data",
     "data": {
      "text/plain": "{-sqrt(g)*sqrt(m1 + m2)/(sqrt(l)*sqrt(m1)): 1,\n sqrt(g)*sqrt(m1 + m2)/(sqrt(l)*sqrt(m1)): 1,\n 0: 2}"
     },
     "metadata": {}
    },
    {
     "output_type": "display_data",
     "data": {
      "text/plain": "Matrix([\n[         0,          1,                                 0,          0],\n[    -k1/m1,     -k2/m1,                   g*m2/m1 - k3/m1,     -k4/m1],\n[         0,          0,                                 0,          1],\n[-k1/(l*m1), -k2/(l*m1), -k3/(l*m1) + (g*m1 + g*m2)/(l*m1), -k4/(l*m1)]])",
      "text/latex": "$\\displaystyle \\left[\\begin{matrix}0 & 1 & 0 & 0\\\\- \\frac{k_{1}}{m_{1}} & - \\frac{k_{2}}{m_{1}} & \\frac{g m_{2}}{m_{1}} - \\frac{k_{3}}{m_{1}} & - \\frac{k_{4}}{m_{1}}\\\\0 & 0 & 0 & 1\\\\- \\frac{k_{1}}{l m_{1}} & - \\frac{k_{2}}{l m_{1}} & - \\frac{k_{3}}{l m_{1}} + \\frac{g m_{1} + g m_{2}}{l m_{1}} & - \\frac{k_{4}}{l m_{1}}\\end{matrix}\\right]$"
     },
     "metadata": {}
    }
   ],
   "source": [
    "k1, k2, k3, k4 = symbols([\"k1\", \"k2\", \"k3\", \"k4\"])\n",
    "K = Matrix([[k1, k2, k3, k4]])\n",
    "display(APlant.eigenvals())\n",
    "AClosedLoop = APlant - B*K\n",
    "display(AClosedLoop)"
   ]
  },
  {
   "cell_type": "code",
   "execution_count": 18,
   "metadata": {},
   "outputs": [],
   "source": [
    "s = Symbol(\"s\")\n",
    "measuredValues = [\n",
    "    (g, 9.81),\n",
    "    (m1, 1.0),\n",
    "    (m2, 2.0),\n",
    "    (l, 1.0)\n",
    "]\n",
    "AClosedLoop = AClosedLoop.subs(measuredValues)\n",
    "# display(AClosedLoop)\n",
    "# display(s*eye(4) - AClosedLoop)\n",
    "charEq = det(s*eye(4) - AClosedLoop)\n",
    "# display(charEq)\n",
    "# charEq.as_poly()"
   ]
  },
  {
   "cell_type": "code",
   "execution_count": 19,
   "metadata": {},
   "outputs": [
    {
     "output_type": "display_data",
     "data": {
      "text/plain": "100.0*(0.1*s + 1.0)**2*(s - 0.728752707683683)*(s + 4.72875270768368)",
      "text/latex": "$\\displaystyle 100.0 \\left(0.1 s + 1.0\\right)^{2} \\left(s - 0.728752707683683\\right) \\left(s + 4.72875270768368\\right)$"
     },
     "metadata": {}
    },
    {
     "output_type": "execute_result",
     "data": {
      "text/plain": [
       "{k2: -33.7490492564912,\n",
       " k4: 57.7490492564912,\n",
       " k1: 35.1283520865548,\n",
       " k3: 170.855556573754}"
      ]
     },
     "metadata": {},
     "execution_count": 19
    }
   ],
   "source": [
    "# Requirements we are trying to achieve\n",
    "os = 0.10 # Overshoot\n",
    "TSetSeconds = 2.0 # Settling time\n",
    "zet = -ln(os)/sqrt(pi**2 + ln(os)**2)\n",
    "wn = 4/(zet*TSetSeconds)\n",
    "\n",
    "desiredCharEq = (s + zet*wn + I*wn*sqrt(zet**2 - 1)) * (s + zet*wn - I*wn*sqrt(zet**2 - 1)) * (s + 5*wn*zet)**2\n",
    "desiredCharEq = N(desiredCharEq)\n",
    "display(desiredCharEq)\n",
    "solve(charEq - desiredCharEq, K)\n",
    "\n",
    "\n",
    "\n"
   ]
  },
  {
   "cell_type": "code",
   "execution_count": null,
   "metadata": {},
   "outputs": [],
   "source": []
  }
 ]
}