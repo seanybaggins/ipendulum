{
 "cells": [
  {
   "cell_type": "code",
   "execution_count": 1,
   "metadata": {},
   "outputs": [],
   "source": [
    "# Set up to be able to use python for symbolic math help.\n",
    "from sympy import *\n",
    "from sympy.assumptions.assume import global_assumptions\n",
    "from IPython.display import display, Math, Latex # Latex printing in notebook\n",
    "\n",
    "l, t, m1, m2, g = symbols(\"l t m1 m2 g\", real=True, positive=True)\n",
    "p1x = Function(\"p1x\", real=True)(t)\n",
    "theta = Function(\"theta\", real=True)(t)\n",
    "global_assumptions.add(Q.real(theta.diff(t)))\n",
    "global_assumptions.add(Q.real(p1x.diff(t)))\n",
    "thetaDot = theta.diff(t, real=True)"
   ]
  },
  {
   "cell_type": "markdown",
   "metadata": {},
   "source": [
    "Suppose we have a mass attached to cart depicted in following diagram.\n",
    "\n",
    "![cart mass system](../images/system.png)\n",
    "\n",
    "We wish to control the system such that the `m2` mass will remain in the upright and vertical position.\n",
    "To keep the `m2` mass in the upright vertical position i.e. keeping $\\theta = 0$, we will be applying some force `f(t)` on the `m1` mass in the horizontal direction. To determine the magnitude and direction of the force needed to keep the `m2` mass balanced, we will be using a full state feedback controller.\n",
    "\n",
    "In order create a state feedback controller to balance our `m2` mass, we must first come up with a mathematical model of our system (a.k.a the equations of motion(EOM)). For this exercise, we opted to use [lagrangian mechanics](https://en.wikipedia.org/wiki/Lagrangian_mechanics) to derive our equations of motion.\n",
    "\n",
    "> Note: We could have derived the EOMs using Newtons 2nd law, but found the math to be much more simple \n",
    "> when using the lagrangian.\n",
    "\n",
    "In order to use the lagrangian, we must fully describe the kinetic and potential energy of the system. This is more easily achieved if we add a few position vectors to our system diagram. ![cart mass system with vectors](../images/system_with_vectors.png)\n",
    "\n",
    "With the vectors $\\vec{p_1}$ and $\\vec{p_2}$ we can now describe the kinetic and potential energy as follows.\n",
    "\n",
    "$$\n",
    "KE = 1/2 * m_1 \\lvert \\dot {\\vec p_1} \\rvert ^2 + 1/2 * m_2 \\lvert \\dot {\\vec p_2} \\rvert ^2 \\\\\n",
    "\\tag{1}\n",
    "\\label{keNotUseful}\n",
    "$$\n",
    "\n",
    "$$\n",
    "PE = m_2 g l cos(\\theta) \\\\\n",
    "\\tag{2}\n",
    "\\label{pe}\n",
    "$$\n",
    "\n",
    "While the equation listed at $\\eqref{keNotUseful}$ is very true, it is not very helpful. When we go to implement, we will not be able to directly measure or apporixmate $\\vec p_2$ or $\\dot{\\vec p_2}$. We can however, solve for $\\vec p_2$ and $\\dot{\\vec p_2}$ in terms of other variables we can measure and apporixmate such as $\\vec p_1$ and $\\dot {\\vec p_1}$.\n",
    "\n",
    "> Note: In the controls world, we typically call the variables that we can measure and or calculate in real time states.\n",
    "\n",
    "Consider our system but while only looking at the following vectors ![system with only vectors](../images/system_vectors_only.png)\n",
    "\n",
    "We can say that\n",
    "$$\n",
    "\\vec{p_2} = \\vec{p_1} + \\Delta \\vec{p} \\\\\n",
    "\\tag{3}\n",
    "$$\n",
    "\n",
    "Using the vector diagram, we can substitute useful relationships for $\\vec{p_1}$ and $\\Delta \\vec{p}$ to represent $\\vec{p_2}$ in terms states that we can measure or appoximate."
   ]
  },
  {
   "cell_type": "code",
   "execution_count": 2,
   "metadata": {},
   "outputs": [
    {
     "data": {
      "text/latex": [
       "$\\displaystyle \\vec{p_1} = {}$"
      ],
      "text/plain": [
       "<IPython.core.display.Math object>"
      ]
     },
     "metadata": {},
     "output_type": "display_data"
    },
    {
     "data": {
      "text/latex": [
       "$\\displaystyle \\left[\\begin{matrix}\\operatorname{p1x}{\\left(t \\right)}\\\\0\\end{matrix}\\right]$"
      ],
      "text/plain": [
       "Matrix([\n",
       "[p1x(t)],\n",
       "[     0]])"
      ]
     },
     "metadata": {},
     "output_type": "display_data"
    }
   ],
   "source": [
    "p1Vec = Matrix([p1x, \n",
    "                0], real=True)\n",
    "display(Math(r\"\\vec{p_1} = {}\"), p1Vec)"
   ]
  },
  {
   "cell_type": "code",
   "execution_count": 3,
   "metadata": {},
   "outputs": [
    {
     "data": {
      "text/latex": [
       "$\\displaystyle \\Delta \\vec{p} =$"
      ],
      "text/plain": [
       "<IPython.core.display.Math object>"
      ]
     },
     "metadata": {},
     "output_type": "display_data"
    },
    {
     "data": {
      "text/latex": [
       "$\\displaystyle \\left[\\begin{matrix}- l \\sin{\\left(\\theta{\\left(t \\right)} \\right)}\\\\l \\cos{\\left(\\theta{\\left(t \\right)} \\right)}\\end{matrix}\\right]$"
      ],
      "text/plain": [
       "Matrix([\n",
       "[-l*sin(theta(t))],\n",
       "[ l*cos(theta(t))]])"
      ]
     },
     "metadata": {},
     "output_type": "display_data"
    }
   ],
   "source": [
    "deltaPVec = Matrix([-l*sin(theta),\n",
    "                   l*cos(theta)], real=True)\n",
    "display(Math(r\"\\Delta \\vec{p} =\"), deltaPVec)"
   ]
  },
  {
   "cell_type": "code",
   "execution_count": 4,
   "metadata": {},
   "outputs": [
    {
     "data": {
      "text/latex": [
       "$\\displaystyle \\vec{p_2} = \\vec{p_1} + \\Delta \\vec{p} = $"
      ],
      "text/plain": [
       "<IPython.core.display.Math object>"
      ]
     },
     "metadata": {},
     "output_type": "display_data"
    },
    {
     "data": {
      "text/latex": [
       "$\\displaystyle \\left[\\begin{matrix}- l \\sin{\\left(\\theta{\\left(t \\right)} \\right)} + \\operatorname{p1x}{\\left(t \\right)}\\\\l \\cos{\\left(\\theta{\\left(t \\right)} \\right)}\\end{matrix}\\right]$"
      ],
      "text/plain": [
       "Matrix([\n",
       "[-l*sin(theta(t)) + p1x(t)],\n",
       "[          l*cos(theta(t))]])"
      ]
     },
     "metadata": {},
     "output_type": "display_data"
    }
   ],
   "source": [
    "p2Vec = p1Vec + deltaPVec\n",
    "display(Math(r\"\\vec{p_2} = \\vec{p_1} + \\Delta \\vec{p} = \"), p2Vec)"
   ]
  },
  {
   "cell_type": "markdown",
   "metadata": {},
   "source": [
    "We can now use these relationships for $\\vec{p_1}$ and $\\vec{p_2}$ to determine $\\lvert \\dot{\\vec{p_1}} \\rvert$ and $\\lvert \\dot{\\vec{p_2}} \\rvert$ in terms of known constants and measurable values. "
   ]
  },
  {
   "cell_type": "code",
   "execution_count": 5,
   "metadata": {
    "scrolled": true
   },
   "outputs": [
    {
     "data": {
      "text/latex": [
       "$\\displaystyle \\lvert \\dot{\\vec{p_1}} \\rvert = $"
      ],
      "text/plain": [
       "<IPython.core.display.Math object>"
      ]
     },
     "metadata": {},
     "output_type": "display_data"
    },
    {
     "data": {
      "text/latex": [
       "$\\displaystyle \\left|{\\frac{d}{d t} \\operatorname{p1x}{\\left(t \\right)}}\\right|$"
      ],
      "text/plain": [
       "Abs(Derivative(p1x(t), t))"
      ]
     },
     "metadata": {},
     "output_type": "display_data"
    }
   ],
   "source": [
    "p1VecDotNorm = p1Vec.diff(t).norm()\n",
    "display(Math(r\"\\lvert \\dot{\\vec{p_1}} \\rvert = \"),p1VecDotNorm)"
   ]
  },
  {
   "cell_type": "code",
   "execution_count": 6,
   "metadata": {},
   "outputs": [
    {
     "data": {
      "text/latex": [
       "$\\displaystyle \\lvert \\dot{\\vec{p_2}} \\rvert = $"
      ],
      "text/plain": [
       "<IPython.core.display.Math object>"
      ]
     },
     "metadata": {},
     "output_type": "display_data"
    },
    {
     "data": {
      "text/latex": [
       "$\\displaystyle \\sqrt{l^{2} \\left(\\frac{d}{d t} \\theta{\\left(t \\right)}\\right)^{2} - 2 l \\cos{\\left(\\theta{\\left(t \\right)} \\right)} \\frac{d}{d t} \\operatorname{p1x}{\\left(t \\right)} \\frac{d}{d t} \\theta{\\left(t \\right)} + \\left(\\frac{d}{d t} \\operatorname{p1x}{\\left(t \\right)}\\right)^{2}}$"
      ],
      "text/plain": [
       "sqrt(l**2*Derivative(theta(t), t)**2 - 2*l*cos(theta(t))*Derivative(p1x(t), t)*Derivative(theta(t), t) + Derivative(p1x(t), t)**2)"
      ]
     },
     "metadata": {},
     "output_type": "display_data"
    }
   ],
   "source": [
    "p2VecDotNorm = simplify(refine(p2Vec.diff(t).norm()))\n",
    "display(Math(r\"\\lvert \\dot{\\vec{p_2}} \\rvert = \"), p2VecDotNorm)"
   ]
  },
  {
   "cell_type": "markdown",
   "metadata": {},
   "source": [
    "Now that we have $\\vec{p_1}, \\lvert \\dot{\\vec{p_1}} \\rvert, \\vec{p_2}, \\lvert \\dot{\\vec{p_2}} \\rvert$ all in terms of useful states, we can express our lagrangian entirely in terms of useful states."
   ]
  },
  {
   "cell_type": "code",
   "execution_count": 7,
   "metadata": {},
   "outputs": [
    {
     "data": {
      "text/latex": [
       "$\\displaystyle L =$"
      ],
      "text/plain": [
       "<IPython.core.display.Math object>"
      ]
     },
     "metadata": {},
     "output_type": "display_data"
    },
    {
     "data": {
      "text/latex": [
       "$\\displaystyle - g l m_{2} \\cos{\\left(\\theta{\\left(t \\right)} \\right)} + 0.5 m_{1} \\left(\\frac{d}{d t} \\operatorname{p1x}{\\left(t \\right)}\\right)^{2} + 0.5 m_{2} \\left(l^{2} \\left(\\frac{d}{d t} \\theta{\\left(t \\right)}\\right)^{2} - 2 l \\cos{\\left(\\theta{\\left(t \\right)} \\right)} \\frac{d}{d t} \\operatorname{p1x}{\\left(t \\right)} \\frac{d}{d t} \\theta{\\left(t \\right)} + \\left(\\frac{d}{d t} \\operatorname{p1x}{\\left(t \\right)}\\right)^{2}\\right)$"
      ],
      "text/plain": [
       "-g*l*m2*cos(theta(t)) + 0.5*m1*Derivative(p1x(t), t)**2 + 0.5*m2*(l**2*Derivative(theta(t), t)**2 - 2*l*cos(theta(t))*Derivative(p1x(t), t)*Derivative(theta(t), t) + Derivative(p1x(t), t)**2)"
      ]
     },
     "metadata": {},
     "output_type": "display_data"
    }
   ],
   "source": [
    "ke = 1/2*m1*p1VecDotNorm**2  + 1/2*m2*p2VecDotNorm**2\n",
    "pe = m2*g*l*cos(theta)\n",
    "L = simplify(refine(ke - pe))\n",
    "display(Math(r\"L =\"),L)"
   ]
  },
  {
   "cell_type": "markdown",
   "metadata": {},
   "source": [
    "Now that we have our lagrangian, we can get our equations of motion by evaulating the following.\n",
    "\n",
    "$$\n",
    "\\frac{d}{dt}\\left\\lgroup \\frac{\\partial L}{\\partial \\dot x}\\right\\rgroup-\\frac{\\partial L}{\\partial x}=f(t) \\\\\n",
    "\\tag{4}\n",
    "\\label{eom1}\n",
    "$$\n",
    "\n",
    "$$\n",
    "\\frac{d}{dt}\\left\\lgroup \\frac{\\partial L}{\\partial \\dot \\theta}\\right\\rgroup-\\frac{\\partial L}{\\partial \\theta}=0 \\\\\n",
    "\\tag{5}\n",
    "\\label{eom2}\n",
    "$$\n",
    "\n",
    "> Note: If you need a refresher of lagrangian mechanics, we found the following videos to be useful.\n",
    "> - <https://youtu.be/4uJaKJASKnY>\n",
    "> - <https://youtu.be/uFnTRJ2be7I>"
   ]
  },
  {
   "cell_type": "code",
   "execution_count": 8,
   "metadata": {},
   "outputs": [
    {
     "data": {
      "text/latex": [
       "$\\displaystyle f{\\left(t \\right)} = 1.0 m_{1} \\frac{d^{2}}{d t^{2}} \\operatorname{p1x}{\\left(t \\right)} + m_{2} \\left(l \\sin{\\left(\\theta{\\left(t \\right)} \\right)} \\left(\\frac{d}{d t} \\theta{\\left(t \\right)}\\right)^{2} - l \\cos{\\left(\\theta{\\left(t \\right)} \\right)} \\frac{d^{2}}{d t^{2}} \\theta{\\left(t \\right)} + \\frac{d^{2}}{d t^{2}} \\operatorname{p1x}{\\left(t \\right)}\\right)$"
      ],
      "text/plain": [
       "Eq(f(t), 1.0*m1*Derivative(p1x(t), (t, 2)) + m2*(l*sin(theta(t))*Derivative(theta(t), t)**2 - l*cos(theta(t))*Derivative(theta(t), (t, 2)) + Derivative(p1x(t), (t, 2))))"
      ]
     },
     "metadata": {},
     "output_type": "display_data"
    }
   ],
   "source": [
    "eom1, eom2 = euler_equations(L, [p1x, theta], t)\n",
    "f = Function(\"f\")\n",
    "eom1 = eom1.subs(0, -f(t))\n",
    "display(simplify(eom1))"
   ]
  },
  {
   "cell_type": "markdown",
   "metadata": {},
   "source": [
    "\n",
    "$$\n",
    "= \\frac{d}{dt}\\left\\lgroup \\frac{\\partial L}{\\partial \\dot x}\\right\\rgroup-\\frac{\\partial L}{\\partial x}=f(t)\n",
    "$$"
   ]
  },
  {
   "cell_type": "code",
   "execution_count": 9,
   "metadata": {},
   "outputs": [
    {
     "data": {
      "text/latex": [
       "$\\displaystyle l m_{2} \\left(g \\sin{\\left(\\theta{\\left(t \\right)} \\right)} - l \\frac{d^{2}}{d t^{2}} \\theta{\\left(t \\right)} + \\cos{\\left(\\theta{\\left(t \\right)} \\right)} \\frac{d^{2}}{d t^{2}} \\operatorname{p1x}{\\left(t \\right)}\\right) = 0$"
      ],
      "text/plain": [
       "Eq(l*m2*(g*sin(theta(t)) - l*Derivative(theta(t), (t, 2)) + cos(theta(t))*Derivative(p1x(t), (t, 2))), 0)"
      ]
     },
     "metadata": {},
     "output_type": "display_data"
    }
   ],
   "source": [
    "display(simplify(eom2))"
   ]
  },
  {
   "cell_type": "markdown",
   "metadata": {},
   "source": [
    "$$\n",
    "= \\frac{d}{dt}\\left\\lgroup \\frac{\\partial L}{\\partial \\dot \\theta}\\right\\rgroup-\\frac{\\partial L}{\\partial \\theta}=0 \n",
    "$$"
   ]
  },
  {
   "cell_type": "markdown",
   "metadata": {},
   "source": [
    "Now that we have our equations of motion, we want to represent our system in a way that makes it easy to control.\n",
    "Since we have decided to use a full state feedback controller, we want to represent our system in the following form.\n",
    "\n",
    "$$\n",
    "\\dot{\\vec{x}}= A \\vec x + Bu \\\\ \n",
    "\\tag{6}\n",
    "\\label{stateEq}\n",
    "$$\n",
    "\n",
    "$$\n",
    "y = C \\vec x + Du \\\\\n",
    "\\tag{7}\n",
    "\\label{outputEq}\n",
    "$$\n",
    "\n",
    "> Note: If the **state equation** $\\eqref{stateEq}$ or the **output equation** $\\eqref{outputEq}$ seams unfamiliar, then we highly suggest watching the following video.\n",
    "> - <https://youtu.be/hpeKrMG-WP0>\n",
    "\n",
    "In order to simplify our life and be able to express `A` in terms of only constants, we decide to apply the following simplifications.\n",
    "\n",
    "> Note: The following appoximations are justified for $-5 ^{\\circ} \\leq \\theta \\leq 5 ^{\\circ} $\n",
    "$$\n",
    "cos\\theta \\approxeq1 \\\\ \n",
    "sin\\theta\\approxeq\\theta \\\\ \n",
    "$$\n",
    "\n",
    "> Note: The following appoximation is valid since $\\dot\\theta$ will be relatively small.\n",
    "$$\n",
    "\\dot\\theta^2\\approxeq 0\n",
    "$$\n"
   ]
  },
  {
   "cell_type": "code",
   "execution_count": 10,
   "metadata": {},
   "outputs": [],
   "source": [
    "linearizations = [\n",
    "    (sin(theta), theta),\n",
    "    (cos(theta), 1),\n",
    "    (thetaDot**2, 0)\n",
    "]\n",
    "eom1 = eom1.subs(linearizations)\n",
    "eom1 = simplify(eom1)\n",
    "\n",
    "eom2 = eom2.subs(linearizations)\n",
    "eom2 = simplify(eom2)"
   ]
  },
  {
   "cell_type": "code",
   "execution_count": 11,
   "metadata": {},
   "outputs": [
    {
     "name": "stdout",
     "output_type": "stream",
     "text": [
      "eom1 after linearization\n"
     ]
    },
    {
     "data": {
      "text/latex": [
       "$\\displaystyle f{\\left(t \\right)} = 1.0 m_{1} \\frac{d^{2}}{d t^{2}} \\operatorname{p1x}{\\left(t \\right)} - m_{2} \\left(l \\frac{d^{2}}{d t^{2}} \\theta{\\left(t \\right)} - \\frac{d^{2}}{d t^{2}} \\operatorname{p1x}{\\left(t \\right)}\\right)$"
      ],
      "text/plain": [
       "Eq(f(t), 1.0*m1*Derivative(p1x(t), (t, 2)) - m2*(l*Derivative(theta(t), (t, 2)) - Derivative(p1x(t), (t, 2))))"
      ]
     },
     "metadata": {},
     "output_type": "display_data"
    }
   ],
   "source": [
    "print(\"eom1 after linearization\")\n",
    "display(eom1)"
   ]
  },
  {
   "cell_type": "code",
   "execution_count": 12,
   "metadata": {},
   "outputs": [
    {
     "name": "stdout",
     "output_type": "stream",
     "text": [
      "eom2 after linearization\n"
     ]
    },
    {
     "data": {
      "text/latex": [
       "$\\displaystyle l m_{2} \\left(g \\theta{\\left(t \\right)} - l \\frac{d^{2}}{d t^{2}} \\theta{\\left(t \\right)} + \\frac{d^{2}}{d t^{2}} \\operatorname{p1x}{\\left(t \\right)}\\right) = 0$"
      ],
      "text/plain": [
       "Eq(l*m2*(g*theta(t) - l*Derivative(theta(t), (t, 2)) + Derivative(p1x(t), (t, 2))), 0)"
      ]
     },
     "metadata": {},
     "output_type": "display_data"
    }
   ],
   "source": [
    "print(\"eom2 after linearization\")\n",
    "display(eom2)"
   ]
  },
  {
   "cell_type": "markdown",
   "metadata": {},
   "source": [
    "Now that we have linearized our equations of motion, let us explicately say what our states are.\n",
    "$$\n",
    "\\vec x = \\left [\n",
    "\\begin{matrix}\n",
    "p_{1x} \\\\\n",
    "\\dot p_{1x} \\\\\n",
    "\\theta \\\\\n",
    "\\dot\\theta \\\\\n",
    "\\end{matrix}\n",
    "\\right ] \\implies\n",
    "\\dot{\\vec x} = \\left [\n",
    "\\begin{matrix}\n",
    "\\dot{p_{1x}} \\\\\n",
    "\\ddot{p_{1x}} \\\\\n",
    "\\dot{\\theta} \\\\\n",
    "\\ddot{\\theta}\\\\\n",
    "\\end{matrix}\n",
    "\\right ]\n",
    "$$\n",
    "\n",
    "We will now solve our equations of motion for $\\ddot{\\theta}$ and $\\ddot{p_{1x}}$. This gets us one step closer to be able to represent our system in the following form\n",
    "$$\n",
    "\\dot{\\vec{x}}= A \\vec x + Bu \\\\\n",
    "y = C \\vec x + Du \n",
    "$$"
   ]
  },
  {
   "cell_type": "code",
   "execution_count": 13,
   "metadata": {},
   "outputs": [],
   "source": [
    "thetaDotDot = thetaDot.diff(t, real=True)\n",
    "p1xDotDot = p1x.diff(t, real=True).diff(t, real=True)\n",
    "solution = solve([eom1, eom2], [thetaDotDot, p1xDotDot])\n",
    "\n",
    "# Getting the solutions of thetaDotDot and p1XDotDot out \n",
    "# of a dictionary\n",
    "thetaDotDot = simplify(solution[thetaDotDot])\n",
    "p1xDotDot = simplify(solution[p1xDotDot])"
   ]
  },
  {
   "cell_type": "code",
   "execution_count": 14,
   "metadata": {},
   "outputs": [
    {
     "data": {
      "text/latex": [
       "$\\displaystyle \\ddot{\\theta} =$"
      ],
      "text/plain": [
       "<IPython.core.display.Math object>"
      ]
     },
     "metadata": {},
     "output_type": "display_data"
    },
    {
     "data": {
      "text/latex": [
       "$\\displaystyle \\frac{g m_{1} \\theta{\\left(t \\right)} + g m_{2} \\theta{\\left(t \\right)} + f{\\left(t \\right)}}{l m_{1}}$"
      ],
      "text/plain": [
       "(g*m1*theta(t) + g*m2*theta(t) + f(t))/(l*m1)"
      ]
     },
     "metadata": {},
     "output_type": "display_data"
    }
   ],
   "source": [
    "display(Math(r\"\\ddot{\\theta} =\"), thetaDotDot)"
   ]
  },
  {
   "cell_type": "code",
   "execution_count": 15,
   "metadata": {},
   "outputs": [
    {
     "data": {
      "text/latex": [
       "$\\displaystyle \\ddot{p_{1x}} = $"
      ],
      "text/plain": [
       "<IPython.core.display.Math object>"
      ]
     },
     "metadata": {},
     "output_type": "display_data"
    },
    {
     "data": {
      "text/latex": [
       "$\\displaystyle \\frac{g m_{2} \\theta{\\left(t \\right)} + f{\\left(t \\right)}}{m_{1}}$"
      ],
      "text/plain": [
       "(g*m2*theta(t) + f(t))/m1"
      ]
     },
     "metadata": {},
     "output_type": "display_data"
    }
   ],
   "source": [
    "display(Math(r\"\\ddot{p_{1x}} = \"), p1xDotDot)"
   ]
  },
  {
   "cell_type": "markdown",
   "metadata": {},
   "source": [
    "Now that we have expressions for $\\ddot{\\theta}$ and $\\ddot{p_{1x}}$ in terms of our states, we are ready to represent the system in terms of the **state equation** and the **output equation**."
   ]
  },
  {
   "cell_type": "code",
   "execution_count": 16,
   "metadata": {},
   "outputs": [
    {
     "data": {
      "text/latex": [
       "$\\displaystyle A =$"
      ],
      "text/plain": [
       "<IPython.core.display.Math object>"
      ]
     },
     "metadata": {},
     "output_type": "display_data"
    },
    {
     "data": {
      "text/latex": [
       "$\\displaystyle \\left[\\begin{matrix}0 & 1 & 0 & 0\\\\0 & 0 & \\frac{g m_{2}}{m_{1}} & 0\\\\0 & 0 & 0 & 1\\\\0 & 0 & \\frac{g m_{1} + g m_{2}}{l m_{1}} & 0\\end{matrix}\\right]$"
      ],
      "text/plain": [
       "Matrix([\n",
       "[0, 1,                    0, 0],\n",
       "[0, 0,              g*m2/m1, 0],\n",
       "[0, 0,                    0, 1],\n",
       "[0, 0, (g*m1 + g*m2)/(l*m1), 0]])"
      ]
     },
     "metadata": {},
     "output_type": "display_data"
    }
   ],
   "source": [
    "p1xDot = p1x.diff(t)\n",
    "x = [p1x, p1xDot, theta, thetaDot]\n",
    "xDot = [p1xDot, p1xDotDot, thetaDot, thetaDotDot]\n",
    "\n",
    "# type conversions are needed for the linear_eq_to_matrix function call to work\n",
    "typeConversions = [\n",
    "    (p1xDot, Symbol(\"p1xDot\")),\n",
    "    (thetaDot, Symbol(\"thetaDot\")),\n",
    "    (p1x, Symbol(\"p1x\")),\n",
    "    (theta, Symbol(\"theta\")),\n",
    "    (f(t), Symbol(\"f(t)\"))\n",
    "]\n",
    "\n",
    "for i in range(len(xDot)):\n",
    "    xDot[i] = xDot[i].subs(typeConversions)\n",
    "    x[i] = x[i].subs(typeConversions)\n",
    "\n",
    "# Gives the variables in the following form \n",
    "# xDot = A*x - B*u\n",
    "APlant, B = linear_eq_to_matrix(xDot, x)\n",
    "\n",
    "# Changing to the form\n",
    "# xDot = A*x + B*u\n",
    "B = -1*B\n",
    "\n",
    "# Getting f(t) out of the B matrix\n",
    "B = B.subs(Symbol(\"f(t)\"), 1)\n",
    "\n",
    "display(Math(r\"A =\"), APlant)"
   ]
  },
  {
   "cell_type": "code",
   "execution_count": 17,
   "metadata": {},
   "outputs": [
    {
     "data": {
      "text/latex": [
       "$\\displaystyle B =$"
      ],
      "text/plain": [
       "<IPython.core.display.Math object>"
      ]
     },
     "metadata": {},
     "output_type": "display_data"
    },
    {
     "data": {
      "text/latex": [
       "$\\displaystyle \\left[\\begin{matrix}0\\\\\\frac{1}{m_{1}}\\\\0\\\\\\frac{1}{l m_{1}}\\end{matrix}\\right]$"
      ],
      "text/plain": [
       "Matrix([\n",
       "[       0],\n",
       "[    1/m1],\n",
       "[       0],\n",
       "[1/(l*m1)]])"
      ]
     },
     "metadata": {},
     "output_type": "display_data"
    }
   ],
   "source": [
    "display(Math(r\"B =\"), B)"
   ]
  },
  {
   "cell_type": "code",
   "execution_count": null,
   "metadata": {},
   "outputs": [],
   "source": []
  },
  {
   "cell_type": "markdown",
   "metadata": {},
   "source": [
    "Now is a good time to substitue some actual values for our constants and do some sanity checks."
   ]
  },
  {
   "cell_type": "code",
   "execution_count": null,
   "metadata": {},
   "outputs": [],
   "source": []
  },
  {
   "cell_type": "code",
   "execution_count": 18,
   "metadata": {},
   "outputs": [
    {
     "data": {
      "text/latex": [
       "$\\displaystyle \\left[\\begin{matrix}0 & 1 & 0 & 0\\\\- \\frac{k_{1}}{m_{1}} & - \\frac{k_{2}}{m_{1}} & \\frac{g m_{2}}{m_{1}} - \\frac{k_{3}}{m_{1}} & - \\frac{k_{4}}{m_{1}}\\\\0 & 0 & 0 & 1\\\\- \\frac{k_{1}}{l m_{1}} & - \\frac{k_{2}}{l m_{1}} & - \\frac{k_{3}}{l m_{1}} + \\frac{g m_{1} + g m_{2}}{l m_{1}} & - \\frac{k_{4}}{l m_{1}}\\end{matrix}\\right]$"
      ],
      "text/plain": [
       "Matrix([\n",
       "[         0,          1,                                 0,          0],\n",
       "[    -k1/m1,     -k2/m1,                   g*m2/m1 - k3/m1,     -k4/m1],\n",
       "[         0,          0,                                 0,          1],\n",
       "[-k1/(l*m1), -k2/(l*m1), -k3/(l*m1) + (g*m1 + g*m2)/(l*m1), -k4/(l*m1)]])"
      ]
     },
     "metadata": {},
     "output_type": "display_data"
    }
   ],
   "source": [
    "k1, k2, k3, k4 = symbols([\"k1\", \"k2\", \"k3\", \"k4\"])\n",
    "K = Matrix([[k1, k2, k3, k4]])\n",
    "AClosedLoop = APlant - B*K\n",
    "display(AClosedLoop)"
   ]
  },
  {
   "cell_type": "code",
   "execution_count": 19,
   "metadata": {},
   "outputs": [],
   "source": [
    "s = Symbol(\"s\")\n",
    "measuredValues = [\n",
    "    (g, 9.81),\n",
    "    (m1, 1.0),\n",
    "    (m2, 2.0),\n",
    "    (l, 1.0)\n",
    "]\n",
    "AClosedLoop = AClosedLoop.subs(measuredValues)\n",
    "charEq = det(s*eye(4) - AClosedLoop)"
   ]
  },
  {
   "cell_type": "code",
   "execution_count": 20,
   "metadata": {},
   "outputs": [],
   "source": [
    "# Requirements we are trying to achieve\n",
    "os = 0.10 # Overshoot\n",
    "TSetSeconds = 2.0 # Settling time\n",
    "zet = -ln(os)/sqrt(pi**2 + ln(os)**2)\n",
    "wn = 4/(zet*TSetSeconds)\n",
    "\n",
    "desiredCharEq = (s + zet*wn + I*wn*sqrt(1 - zet**2)) * (s + zet*wn - I*wn*sqrt(1 - zet**2)) * (s + 5*wn*zet)**2\n",
    "desiredCharEq = N(desiredCharEq)\n",
    "gains = solve(Eq(charEq, desiredCharEq), K)\n",
    "gainsSub = [\n",
    "    (k1, gains[k1]),\n",
    "    (k2, gains[k2]),\n",
    "    (k3, gains[k3]),\n",
    "    (k4, gains[k4])\n",
    "]\n"
   ]
  },
  {
   "cell_type": "code",
   "execution_count": 21,
   "metadata": {},
   "outputs": [],
   "source": [
    "from control.matlab import *\n",
    "import matplotlib.pyplot as plt\n",
    "import numpy as np\n",
    "from math import pi"
   ]
  },
  {
   "cell_type": "code",
   "execution_count": 22,
   "metadata": {},
   "outputs": [
    {
     "data": {
      "image/png": "[encoded data removed]",
      "text/plain": [
       "<Figure size 432x288 with 1 Axes>"
      ]
     },
     "metadata": {
      "needs_background": "light"
     },
     "output_type": "display_data"
    }
   ],
   "source": [
    "AClosedLoop = AClosedLoop.subs(gainsSub)\n",
    "APlant = APlant.subs(measuredValues)\n",
    "B = B.subs(measuredValues)\n",
    "C = Matrix([[1, 0, 0, 0],\n",
    "            [0, 0, 0, 0],\n",
    "            [0, 0, 1, 0],\n",
    "            [0, 0, 0, 0]])\n",
    "D = Matrix([0,\n",
    "            0,\n",
    "            0,\n",
    "            0])\n",
    "initialStates = [0, # p1x (m)\n",
    "                 0, # p1xdot (m/s)\n",
    "                 5 * pi / 180, # theta (rad)\n",
    "                 0] # thetadot (rad/sec) \n",
    "                        \n",
    "sys = StateSpace(AClosedLoop, B, C, D)\n",
    "fig1 = plt.figure()\n",
    "p1 = pzmap(sys)"
   ]
  },
  {
   "cell_type": "code",
   "execution_count": 23,
   "metadata": {},
   "outputs": [
    {
     "data": {
      "image/png": "[encoded data removed]",
      "text/plain": [
       "<Figure size 432x288 with 1 Axes>"
      ]
     },
     "metadata": {
      "needs_background": "light"
     },
     "output_type": "display_data"
    }
   ],
   "source": [
    "fig2 = plt.figure()\n",
    "dt = 0.01\n",
    "T = np.arange(0, 3, dt)\n",
    "y, t = initial(sys, T, initialStates)\n",
    "thetaDeg = y[:, 2] * 180/pi\n",
    "p1 = plt.plot(t, thetaDeg)\n",
    "plt.title(\"$\\Theta$ vs t\")\n",
    "plt.ylabel(\"$\\Theta$ ($\\degree$)\")\n",
    "plt.ylim([-4, 5.5])\n",
    "plt.xlabel(\"t (sec)\")\n",
    "plt.grid(\"on\")\n"
   ]
  },
  {
   "cell_type": "code",
   "execution_count": null,
   "metadata": {},
   "outputs": [],
   "source": []
  }
 ],
 "metadata": {
  "kernelspec": {
   "display_name": "Python 3",
   "language": "python",
   "name": "python3"
  },
  "language_info": {
   "codemirror_mode": {
    "name": "ipython",
    "version": 3
   },
   "file_extension": ".py",
   "mimetype": "text/x-python",
   "name": "python",
   "nbconvert_exporter": "python",
   "pygments_lexer": "ipython3",
   "version": "3.8.6"
  }
 },
 "nbformat": 4,
 "nbformat_minor": 2
}
