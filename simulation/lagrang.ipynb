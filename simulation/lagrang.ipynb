{
 "metadata": {
  "language_info": {
   "codemirror_mode": {
    "name": "ipython",
    "version": 3
   },
   "file_extension": ".py",
   "mimetype": "text/x-python",
   "name": "python",
   "nbconvert_exporter": "python",
   "pygments_lexer": "ipython3",
   "version": "3.8.6-final"
  },
  "orig_nbformat": 2,
  "kernelspec": {
   "name": "python3",
   "display_name": "Python 3.8.6 64-bit ('base': conda)",
   "metadata": {
    "interpreter": {
     "hash": "98b0a9b7b4eaaa670588a142fd0a9b87eaafe866f1db4228be72b4211d12040f"
    }
   }
  }
 },
 "nbformat": 4,
 "nbformat_minor": 2,
 "cells": [
  {
   "source": [
    "from sympy import *\n",
    "from sympy.assumptions.assume import global_assumptions"
   ],
   "cell_type": "code",
   "metadata": {},
   "execution_count": 1,
   "outputs": []
  },
  {
   "cell_type": "code",
   "execution_count": 2,
   "metadata": {},
   "outputs": [],
   "source": [
    "l, t, m1, m2, g = symbols(\"l t m1 m2 g\", real=True, positive=True)\n",
    "p1x = Function(\"p1x\", real=True)(t)\n",
    "theta = Function(\"theta\", real=True)(t)\n",
    "global_assumptions.add(Q.real(theta.diff(t)))\n",
    "global_assumptions.add(Q.real(p1x.diff(t)))\n",
    "thetaDot = theta.diff(t, real=True)"
   ]
  },
  {
   "cell_type": "code",
   "execution_count": 3,
   "metadata": {},
   "outputs": [
    {
     "output_type": "display_data",
     "data": {
      "text/plain": "Matrix([\n[-l*sin(theta(t)) + p1x(t)],\n[          l*cos(theta(t))]])",
      "text/latex": "$\\displaystyle \\left[\\begin{matrix}- l \\sin{\\left(\\theta{\\left(t \\right)} \\right)} + \\operatorname{p1x}{\\left(t \\right)}\\\\l \\cos{\\left(\\theta{\\left(t \\right)} \\right)}\\end{matrix}\\right]$"
     },
     "metadata": {}
    }
   ],
   "source": [
    "p2Vec = Matrix([[p1x - l * sin(theta)],\n",
    "                [l * cos(theta)]], real=True)\n",
    "display(p2Vec)"
   ]
  },
  {
   "cell_type": "code",
   "execution_count": 4,
   "metadata": {},
   "outputs": [
    {
     "output_type": "display_data",
     "data": {
      "text/plain": "Matrix([\n[p1x(t)],\n[     0]])",
      "text/latex": "$\\displaystyle \\left[\\begin{matrix}\\operatorname{p1x}{\\left(t \\right)}\\\\0\\end{matrix}\\right]$"
     },
     "metadata": {}
    }
   ],
   "source": [
    "p1Vec = Matrix([p1x, 0])\n",
    "display(p1Vec)"
   ]
  },
  {
   "cell_type": "code",
   "execution_count": 5,
   "metadata": {},
   "outputs": [
    {
     "output_type": "display_data",
     "data": {
      "text/plain": "Abs(Derivative(p1x(t), t))",
      "text/latex": "$\\displaystyle \\left|{\\frac{d}{d t} \\operatorname{p1x}{\\left(t \\right)}}\\right|$"
     },
     "metadata": {}
    }
   ],
   "source": [
    "p1VecDot = p1Vec.diff(t).norm()\n",
    "display(p1VecDot)\n"
   ]
  },
  {
   "cell_type": "code",
   "execution_count": 6,
   "metadata": {},
   "outputs": [
    {
     "output_type": "display_data",
     "data": {
      "text/plain": "sqrt(l**2*Derivative(theta(t), t)**2 - 2*l*cos(theta(t))*Derivative(p1x(t), t)*Derivative(theta(t), t) + Derivative(p1x(t), t)**2)",
      "text/latex": "$\\displaystyle \\sqrt{l^{2} \\left(\\frac{d}{d t} \\theta{\\left(t \\right)}\\right)^{2} - 2 l \\cos{\\left(\\theta{\\left(t \\right)} \\right)} \\frac{d}{d t} \\operatorname{p1x}{\\left(t \\right)} \\frac{d}{d t} \\theta{\\left(t \\right)} + \\left(\\frac{d}{d t} \\operatorname{p1x}{\\left(t \\right)}\\right)^{2}}$"
     },
     "metadata": {}
    }
   ],
   "source": [
    "p2VecDot = simplify(refine(p2Vec.diff(t).norm()))\n",
    "display(p2VecDot)"
   ]
  },
  {
   "cell_type": "code",
   "execution_count": 7,
   "metadata": {},
   "outputs": [
    {
     "output_type": "display_data",
     "data": {
      "text/plain": "-1.0*g*l*m2*cos(theta(t)) + 1.0*l**2*m2*Derivative(theta(t), t)**2 - 1.0*l*m2*cos(theta(t))*Derivative(p1x(t), t)*Derivative(theta(t), t) + 0.5*m1*Derivative(p1x(t), t)**2 + 0.5*m2*Derivative(p1x(t), t)**2",
      "text/latex": "$\\displaystyle - 1.0 g l m_{2} \\cos{\\left(\\theta{\\left(t \\right)} \\right)} + 1.0 l^{2} m_{2} \\left(\\frac{d}{d t} \\theta{\\left(t \\right)}\\right)^{2} - 1.0 l m_{2} \\cos{\\left(\\theta{\\left(t \\right)} \\right)} \\frac{d}{d t} \\operatorname{p1x}{\\left(t \\right)} \\frac{d}{d t} \\theta{\\left(t \\right)} + 0.5 m_{1} \\left(\\frac{d}{d t} \\operatorname{p1x}{\\left(t \\right)}\\right)^{2} + 0.5 m_{2} \\left(\\frac{d}{d t} \\operatorname{p1x}{\\left(t \\right)}\\right)^{2}$"
     },
     "metadata": {}
    }
   ],
   "source": [
    "I = m2*l**2\n",
    "ke = 1/2*m1*p1VecDot**2  + 1/2*m2*p2VecDot**2 + 1/2*I*thetaDot**2\n",
    "pe = m2*g*l*cos(theta)\n",
    "L = simplify(refine(ke - pe))\n",
    "display(L)"
   ]
  },
  {
   "cell_type": "code",
   "execution_count": 8,
   "metadata": {},
   "outputs": [],
   "source": [
    "eom1, eom2 = euler_equations(L, [p1x, theta], t)"
   ]
  },
  {
   "cell_type": "code",
   "execution_count": 9,
   "metadata": {},
   "outputs": [],
   "source": [
    "# Now is a good time to apply our assumptions about the system\n",
    "eom1 = eom1.subs(sin(theta), theta)\n",
    "eom1 = eom1.subs(cos(theta), 1)\n",
    "\n",
    "eom2 = eom2.subs(sin(theta), theta)\n",
    "eom2 = eom2.subs(cos(theta), 1)"
   ]
  },
  {
   "cell_type": "code",
   "execution_count": 10,
   "metadata": {},
   "outputs": [
    {
     "output_type": "display_data",
     "data": {
      "text/plain": "Eq(1.0*l*m2*theta(t)*Derivative(theta(t), t)**2 - 1.0*l*m2*Derivative(theta(t), (t, 2)) + 1.0*m1*Derivative(p1x(t), (t, 2)) + 1.0*m2*Derivative(p1x(t), (t, 2)), 0)",
      "text/latex": "$\\displaystyle 1.0 l m_{2} \\theta{\\left(t \\right)} \\left(\\frac{d}{d t} \\theta{\\left(t \\right)}\\right)^{2} - 1.0 l m_{2} \\frac{d^{2}}{d t^{2}} \\theta{\\left(t \\right)} + 1.0 m_{1} \\frac{d^{2}}{d t^{2}} \\operatorname{p1x}{\\left(t \\right)} + 1.0 m_{2} \\frac{d^{2}}{d t^{2}} \\operatorname{p1x}{\\left(t \\right)} = 0$"
     },
     "metadata": {}
    }
   ],
   "source": [
    "display(simplify(eom1))"
   ]
  },
  {
   "cell_type": "code",
   "execution_count": 11,
   "metadata": {},
   "outputs": [
    {
     "output_type": "display_data",
     "data": {
      "text/plain": "Eq(l*m2*(1.0*g*theta(t) - 2.0*l*Derivative(theta(t), (t, 2)) + 1.0*Derivative(p1x(t), (t, 2))), 0)",
      "text/latex": "$\\displaystyle l m_{2} \\left(1.0 g \\theta{\\left(t \\right)} - 2.0 l \\frac{d^{2}}{d t^{2}} \\theta{\\left(t \\right)} + 1.0 \\frac{d^{2}}{d t^{2}} \\operatorname{p1x}{\\left(t \\right)}\\right) = 0$"
     },
     "metadata": {}
    }
   ],
   "source": [
    "display(simplify(eom2))"
   ]
  },
  {
   "cell_type": "code",
   "execution_count": 12,
   "metadata": {},
   "outputs": [],
   "source": [
    "thetaDotDot = thetaDot.diff(t, real=True)\n",
    "p1xDotDot = p1x.diff(t, real=True).diff(t, real=True)\n",
    "solution = solve([eom1, eom2], [thetaDotDot, p1xDotDot])"
   ]
  },
  {
   "cell_type": "code",
   "execution_count": 18,
   "metadata": {},
   "outputs": [
    {
     "output_type": "display_data",
     "data": {
      "text/plain": "g*m1*theta(t)/(2.0*l*m1 + l*m2) + g*m2*theta(t)/(2.0*l*m1 + l*m2) - l*m2*theta(t)*Derivative(theta(t), t)**2/(2.0*l*m1 + l*m2)",
      "text/latex": "$\\displaystyle \\frac{g m_{1} \\theta{\\left(t \\right)}}{2.0 l m_{1} + l m_{2}} + \\frac{g m_{2} \\theta{\\left(t \\right)}}{2.0 l m_{1} + l m_{2}} - \\frac{l m_{2} \\theta{\\left(t \\right)} \\left(\\frac{d}{d t} \\theta{\\left(t \\right)}\\right)^{2}}{2.0 l m_{1} + l m_{2}}$"
     },
     "metadata": {}
    }
   ],
   "source": [
    "display(solution[thetaDotDot])"
   ]
  },
  {
   "cell_type": "code",
   "execution_count": 20,
   "metadata": {},
   "outputs": [
    {
     "output_type": "display_data",
     "data": {
      "text/plain": "g*m2*theta(t)/(2.0*m1 + m2) - 2.0*l*m2*theta(t)*Derivative(theta(t), t)**2/(2.0*m1 + m2)",
      "text/latex": "$\\displaystyle \\frac{g m_{2} \\theta{\\left(t \\right)}}{2.0 m_{1} + m_{2}} - \\frac{2.0 l m_{2} \\theta{\\left(t \\right)} \\left(\\frac{d}{d t} \\theta{\\left(t \\right)}\\right)^{2}}{2.0 m_{1} + m_{2}}$"
     },
     "metadata": {}
    }
   ],
   "source": [
    "display(solution[p1xDotDot])"
   ]
  },
  {
   "cell_type": "code",
   "execution_count": null,
   "metadata": {},
   "outputs": [],
   "source": []
  }
 ]
}